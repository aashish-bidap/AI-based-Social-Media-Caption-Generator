{
  "nbformat": 4,
  "nbformat_minor": 0,
  "metadata": {
    "colab": {
      "name": "textcategorization.ipynb",
      "provenance": [],
      "collapsed_sections": []
    },
    "kernelspec": {
      "name": "python3",
      "display_name": "Python 3"
    }
  },
  "cells": [
    {
      "cell_type": "markdown",
      "metadata": {
        "id": "be37STijYb4S"
      },
      "source": [
        "EAI 6010 <br>\n",
        "Data COllection for Text Categorization<br>\n"
      ]
    },
    {
      "cell_type": "markdown",
      "metadata": {
        "id": "ue967fg62Sv_"
      },
      "source": [
        "Data Collection Via Youtube API."
      ]
    },
    {
      "cell_type": "code",
      "metadata": {
        "id": "m2hNx-3w2Nkf"
      },
      "source": [
        "from apiclient.discovery import build\n",
        "import pandas as pd\n",
        "\n",
        "# Data to be stored\n",
        "category = []\n",
        "no_of_samples = 1700\n",
        "\n",
        "# Gathering Data using the Youtube API\n",
        "api_key = 'XXX' #input api_key youtube\n",
        "youtube_api = build('youtube','v3', developerKey = api_key)"
      ],
      "execution_count": 4,
      "outputs": []
    },
    {
      "cell_type": "code",
      "metadata": {
        "id": "YS6WGh40b2XM"
      },
      "source": [
        "# manufacturing --1st\n",
        "manufacturing_titles = []\n",
        "manufacturing_descriptions = []\n",
        "manufacturing_ids = []\n",
        "\n",
        "req = youtube_api.search().list(q='automation', part='snippet', type='video', maxResults = 50)\n",
        "res = req.execute()\n",
        "while(len(manufacturing_titles)<no_of_samples):\n",
        "    for i in range(len(res['items'])):\n",
        "        manufacturing_titles.append(res['items'][i]['snippet']['title'])\n",
        "        manufacturing_descriptions.append(res['items'][i]['snippet']['description'])\n",
        "        manufacturing_ids.append(res['items'][i]['id']['videoId'])\n",
        "        category.append('manufacturing')\n",
        "            \n",
        "    if('nextPageToken' in res):\n",
        "        next_page_token = res['nextPageToken']\n",
        "        req = youtube_api.search().list(q='automation', part='snippet', type='video', maxResults = 50, pageToken=next_page_token)\n",
        "        res = req.execute()\n",
        "    else:\n",
        "        break"
      ],
      "execution_count": 5,
      "outputs": []
    },
    {
      "cell_type": "code",
      "metadata": {
        "id": "I99dKScolqxc"
      },
      "source": [
        "# adventure do this 2nd\n",
        "adventure_titles = []\n",
        "adventure_descriptions = []\n",
        "adventure_ids = []\n",
        "\n",
        "req = youtube_api.search().list(q='lifetime adventure', part='snippet', type='video', maxResults = 50)\n",
        "res = req.execute()\n",
        "while(len(adventure_titles)<no_of_samples):\n",
        "    for i in range(len(res['items'])):\n",
        "        adventure_titles.append(res['items'][i]['snippet']['title'])\n",
        "        adventure_descriptions.append(res['items'][i]['snippet']['description'])\n",
        "        adventure_ids.append(res['items'][i]['id']['videoId'])\n",
        "        category.append('adventure')\n",
        "            \n",
        "    if('nextPageToken' in res):\n",
        "        next_page_token = res['nextPageToken']\n",
        "        req = youtube_api.search().list(q='lifetime adventure', part='snippet', type='video', maxResults = 50, pageToken=next_page_token)\n",
        "        res = req.execute()\n",
        "    else:\n",
        "        break"
      ],
      "execution_count": 6,
      "outputs": []
    },
    {
      "cell_type": "code",
      "metadata": {
        "id": "P4wi3_E6d25Z"
      },
      "source": [
        "# Science Data do this\n",
        "science_titles = []\n",
        "science_descriptions = []\n",
        "science_ids = []\n",
        "\n",
        "next_page_token = None\n",
        "req = youtube_api.search().list(q='cellphone', part='snippet', type='video', maxResults = 50)\n",
        "res = req.execute()\n",
        "while(len(science_titles)<no_of_samples):\n",
        "    if(next_page_token is not None):\n",
        "        req = youtube_api.search().list(q='cellphone', part='snippet', type='video', maxResults = 50, pageToken=next_page_token)\n",
        "        res = req.execute()\n",
        "    for i in range(len(res['items'])):\n",
        "        science_titles.append(res['items'][i]['snippet']['title'])\n",
        "        science_descriptions.append(res['items'][i]['snippet']['description'])\n",
        "        science_ids.append(res['items'][i]['id']['videoId'])\n",
        "        category.append('science and technology')\n",
        "            \n",
        "    if('nextPageToken' in res):\n",
        "        next_page_token = res['nextPageToken']\n",
        "    else:\n",
        "        break"
      ],
      "execution_count": null,
      "outputs": []
    },
    {
      "cell_type": "code",
      "metadata": {
        "id": "3ewCkFA9d7Dg"
      },
      "source": [
        "# Food Data \n",
        "food_titles = []\n",
        "food_descriptions = []\n",
        "food_ids = []\n",
        "\n",
        "next_page_token = None\n",
        "req = youtube_api.search().list(q='recipes', part='snippet', type='video', maxResults = 50)\n",
        "res = req.execute()\n",
        "while(len(food_titles)<no_of_samples):\n",
        "    if(next_page_token is not None):\n",
        "        req = youtube_api.search().list(q='recipes', part='snippet', type='video', maxResults = 50, pageToken=next_page_token)\n",
        "        res = req.execute()\n",
        "    for i in range(len(res['items'])):\n",
        "        food_titles.append(res['items'][i]['snippet']['title'])\n",
        "        food_descriptions.append(res['items'][i]['snippet']['description'])\n",
        "        food_ids.append(res['items'][i]['id']['videoId'])\n",
        "        category.append('food')\n",
        "            \n",
        "    if('nextPageToken' in res):\n",
        "        next_page_token = res['nextPageToken']\n",
        "    else:\n",
        "        break"
      ],
      "execution_count": 4,
      "outputs": []
    },
    {
      "cell_type": "code",
      "metadata": {
        "id": "ho6SgS-heB3m"
      },
      "source": [
        "# travel do THIS 3rd\n",
        "travel_titles = []\n",
        "travel_descriptions = []\n",
        "travel_ids = []\n",
        "\n",
        "next_page_token = None\n",
        "req = youtube_api.search().list(q='road trip', part='snippet', type='video', maxResults = 50)\n",
        "res = req.execute()\n",
        "while(len(travel_titles)<no_of_samples):\n",
        "    if(next_page_token is not None):\n",
        "        req = youtube_api.search().list(q='road trip', part='snippet', type='video', maxResults = 50, pageToken=next_page_token)\n",
        "        res = req.execute()\n",
        "    for i in range(len(res['items'])):\n",
        "        travel_titles.append(res['items'][i]['snippet']['title'])\n",
        "        travel_descriptions.append(res['items'][i]['snippet']['description'])\n",
        "        travel_ids.append(res['items'][i]['id']['videoId'])\n",
        "        category.append('travel')\n",
        "    if('nextPageToken' in res):\n",
        "        next_page_token = res['nextPageToken']\n",
        "    else:\n",
        "        break"
      ],
      "execution_count": 7,
      "outputs": []
    },
    {
      "cell_type": "code",
      "metadata": {
        "id": "gRvRfE4ZeE3E"
      },
      "source": [
        "#nature do this\n",
        "history_titles = []\n",
        "history_descriptions = []\n",
        "history_ids = []\n",
        "\n",
        "next_page_token = None\n",
        "req = youtube_api.search().list(q='', part='snippet', type='video', maxResults = 50)\n",
        "res = req.execute()\n",
        "while(len(history_titles)<no_of_samples):\n",
        "    if(next_page_token is not None):\n",
        "        req = youtube_api.search().list(q='', part='snippet', type='video', maxResults = 50, pageToken=next_page_token)\n",
        "        res = req.execute()\n",
        "    for i in range(len(res['items'])):\n",
        "        history_titles.append(res['items'][i]['snippet']['title'])\n",
        "        history_descriptions.append(res['items'][i]['snippet']['description'])\n",
        "        history_ids.append(res['items'][i]['id']['videoId'])\n",
        "        category.append('history')\n",
        "            \n",
        "    if('nextPageToken' in res):\n",
        "        next_page_token = res['nextPageToken']\n",
        "    else:\n",
        "        break"
      ],
      "execution_count": 5,
      "outputs": []
    },
    {
      "cell_type": "code",
      "metadata": {
        "id": "701zBXEKeInk"
      },
      "source": [
        "# Art and Music DO THIS\n",
        "art_titles = []\n",
        "art_descriptions = []\n",
        "art_ids = []\n",
        "\n",
        "next_page_token = None\n",
        "req = youtube_api.search().list(q='musical instruments', part='snippet', type='video', maxResults = 50)\n",
        "res = req.execute()\n",
        "while(len(art_titles)<no_of_samples):\n",
        "    if(next_page_token is not None):\n",
        "        req = youtube_api.search().list(q='musical instruments', part='snippet', type='video', maxResults = 50, pageToken=next_page_token)\n",
        "        res = req.execute()\n",
        "    for i in range(len(res['items'])):\n",
        "        art_titles.append(res['items'][i]['snippet']['title'])\n",
        "        art_descriptions.append(res['items'][i]['snippet']['description'])\n",
        "        art_ids.append(res['items'][i]['id']['videoId'])\n",
        "        category.append('art and music')\n",
        "            \n",
        "    if('nextPageToken' in res):\n",
        "        next_page_token = res['nextPageToken']\n",
        "    else:\n",
        "        break"
      ],
      "execution_count": 6,
      "outputs": []
    },
    {
      "cell_type": "code",
      "metadata": {
        "id": "A2Z4x0qreKiO"
      },
      "source": [
        "# Construct Dataset\n",
        "\n",
        "\n",
        "final_titles       = manufacturing_titles + adventure_titles + travel_titles \n",
        "final_descriptions = manufacturing_descriptions + adventure_descriptions + travel_descriptions \n",
        "final_ids          = manufacturing_ids + adventure_ids + travel_ids\n",
        "\n",
        "data = pd.DataFrame({'Video Id': final_ids, 'Title': final_titles, 'Description': final_descriptions, 'Category': category}) \n",
        "data.to_csv('/content/drive/My Drive/EAI Project/Collected_data_raw11.csv')"
      ],
      "execution_count": 8,
      "outputs": []
    },
    {
      "cell_type": "markdown",
      "metadata": {
        "id": "LJXmBBBl2Wxi"
      },
      "source": [
        "MERGING ALL THE DATA FILES"
      ]
    },
    {
      "cell_type": "code",
      "metadata": {
        "id": "GqxnVoOX2WVG",
        "outputId": "8e109d8c-af57-4126-92b9-72a37f22a921",
        "colab": {
          "base_uri": "https://localhost:8080/",
          "height": 204
        }
      },
      "source": [
        "!ls /content/drive/My\\ Drive/EAI\\ Project/"
      ],
      "execution_count": 9,
      "outputs": [
        {
          "output_type": "stream",
          "text": [
            "arts_data.csv\t\t  Collected_data_raw9.csv\n",
            "Collected_data_raw10.csv  episodes-sample.csv\n",
            "Collected_data_raw11.csv  Final_project.ipynb\n",
            "Collected_data_raw1.csv   merged_data.csv\n",
            "Collected_data_raw2.csv   model_text_categorize.h5\n",
            "Collected_data_raw3.csv   _OLD_Collected_data_raw6.csv\n",
            "Collected_data_raw4.csv   podcast_data.ipynb\n",
            "Collected_data_raw5.csv   sports_data.csv\n",
            "Collected_data_raw6_.csv  technology_data.csv\n",
            "Collected_data_raw7.csv   textcategorization.ipynb\n",
            "Collected_data_raw8.csv\n"
          ],
          "name": "stdout"
        }
      ]
    },
    {
      "cell_type": "code",
      "metadata": {
        "id": "AXDpwBtl3wg3",
        "outputId": "2c1ff13a-3c4c-4549-c8f9-ed9968fde969",
        "colab": {
          "base_uri": "https://localhost:8080/",
          "height": 204
        }
      },
      "source": [
        "import os, glob\n",
        "import pandas as pd\n",
        "\n",
        "path = \"/content/drive/My Drive/EAI Project/\"\n",
        "all_files = glob.glob(os.path.join(path, \"Collected_*.csv\"))\n",
        "all_df = []\n",
        "\n",
        "for f in all_files:\n",
        "    print(f)\n",
        "    df = pd.read_csv(f, sep=',')\n",
        "    df['file'] = f.split('/')[-1]\n",
        "    all_df.append(df)\n",
        "    \n",
        "merged_df = pd.concat(all_df, ignore_index=True, sort=True)"
      ],
      "execution_count": 10,
      "outputs": [
        {
          "output_type": "stream",
          "text": [
            "/content/drive/My Drive/EAI Project/Collected_data_raw1.csv\n",
            "/content/drive/My Drive/EAI Project/Collected_data_raw2.csv\n",
            "/content/drive/My Drive/EAI Project/Collected_data_raw3.csv\n",
            "/content/drive/My Drive/EAI Project/Collected_data_raw4.csv\n",
            "/content/drive/My Drive/EAI Project/Collected_data_raw5.csv\n",
            "/content/drive/My Drive/EAI Project/Collected_data_raw7.csv\n",
            "/content/drive/My Drive/EAI Project/Collected_data_raw8.csv\n",
            "/content/drive/My Drive/EAI Project/Collected_data_raw6_.csv\n",
            "/content/drive/My Drive/EAI Project/Collected_data_raw9.csv\n",
            "/content/drive/My Drive/EAI Project/Collected_data_raw10.csv\n",
            "/content/drive/My Drive/EAI Project/Collected_data_raw11.csv\n"
          ],
          "name": "stdout"
        }
      ]
    },
    {
      "cell_type": "code",
      "metadata": {
        "id": "B6Kc7ooRLKYJ",
        "outputId": "10686c28-0bfe-41f1-818b-2e6e595c5496",
        "colab": {
          "base_uri": "https://localhost:8080/",
          "height": 306
        }
      },
      "source": [
        "merged_df.head()"
      ],
      "execution_count": 2,
      "outputs": [
        {
          "output_type": "execute_result",
          "data": {
            "text/html": [
              "<div>\n",
              "<style scoped>\n",
              "    .dataframe tbody tr th:only-of-type {\n",
              "        vertical-align: middle;\n",
              "    }\n",
              "\n",
              "    .dataframe tbody tr th {\n",
              "        vertical-align: top;\n",
              "    }\n",
              "\n",
              "    .dataframe thead th {\n",
              "        text-align: right;\n",
              "    }\n",
              "</style>\n",
              "<table border=\"1\" class=\"dataframe\">\n",
              "  <thead>\n",
              "    <tr style=\"text-align: right;\">\n",
              "      <th></th>\n",
              "      <th>Category</th>\n",
              "      <th>Description</th>\n",
              "      <th>Title</th>\n",
              "      <th>Unnamed: 0</th>\n",
              "      <th>Video Id</th>\n",
              "      <th>file</th>\n",
              "    </tr>\n",
              "  </thead>\n",
              "  <tbody>\n",
              "    <tr>\n",
              "      <th>0</th>\n",
              "      <td>travel</td>\n",
              "      <td>DISCLAIMER* Please do not ride elephants when ...</td>\n",
              "      <td>Welcome to Bali | Travel Vlog | Priscilla Lee</td>\n",
              "      <td>0</td>\n",
              "      <td>i9E_Blai8vk</td>\n",
              "      <td>Collected_data_raw1.csv</td>\n",
              "    </tr>\n",
              "    <tr>\n",
              "      <th>1</th>\n",
              "      <td>travel</td>\n",
              "      <td>Had the most amazing experience in Finland for...</td>\n",
              "      <td>FINLAND VACATION: TRAVEL VLOG</td>\n",
              "      <td>1</td>\n",
              "      <td>UBvJKs9eW3I</td>\n",
              "      <td>Collected_data_raw1.csv</td>\n",
              "    </tr>\n",
              "    <tr>\n",
              "      <th>2</th>\n",
              "      <td>travel</td>\n",
              "      <td>Hello loves Today's video is the Vlog of my tr...</td>\n",
              "      <td>MYKONOS GREECE TRAVEL VLOG 2020 |  Living our ...</td>\n",
              "      <td>2</td>\n",
              "      <td>jeIQ_Z35HZ4</td>\n",
              "      <td>Collected_data_raw1.csv</td>\n",
              "    </tr>\n",
              "    <tr>\n",
              "      <th>3</th>\n",
              "      <td>travel</td>\n",
              "      <td>Thank you so much for watching! I hope you fou...</td>\n",
              "      <td>TRAVEL VLOG: SANTORINI, GREECE</td>\n",
              "      <td>3</td>\n",
              "      <td>EthqIhPtd2I</td>\n",
              "      <td>Collected_data_raw1.csv</td>\n",
              "    </tr>\n",
              "    <tr>\n",
              "      <th>4</th>\n",
              "      <td>travel</td>\n",
              "      <td>Las Vegas Travel Vlog 2020 - Pandemic Version....</td>\n",
              "      <td>Las Vegas Travel Vlog 2020 | Pandemic Edition</td>\n",
              "      <td>4</td>\n",
              "      <td>X0F0Dh8ut3U</td>\n",
              "      <td>Collected_data_raw1.csv</td>\n",
              "    </tr>\n",
              "  </tbody>\n",
              "</table>\n",
              "</div>"
            ],
            "text/plain": [
              "  Category  ...                     file\n",
              "0   travel  ...  Collected_data_raw1.csv\n",
              "1   travel  ...  Collected_data_raw1.csv\n",
              "2   travel  ...  Collected_data_raw1.csv\n",
              "3   travel  ...  Collected_data_raw1.csv\n",
              "4   travel  ...  Collected_data_raw1.csv\n",
              "\n",
              "[5 rows x 6 columns]"
            ]
          },
          "metadata": {
            "tags": []
          },
          "execution_count": 2
        }
      ]
    },
    {
      "cell_type": "code",
      "metadata": {
        "id": "Uzlq3ZkN4Yb3"
      },
      "source": [
        "merged_df.to_csv('/content/drive/My Drive/EAI Project/merged_data_file.csv')"
      ],
      "execution_count": 11,
      "outputs": []
    },
    {
      "cell_type": "code",
      "metadata": {
        "id": "MPW9MQglmRVP",
        "outputId": "fe0cd20a-d249-4f2a-8e18-e2a39a439e31",
        "colab": {
          "base_uri": "https://localhost:8080/",
          "height": 34
        }
      },
      "source": [
        "merged_df.shape"
      ],
      "execution_count": 13,
      "outputs": [
        {
          "output_type": "execute_result",
          "data": {
            "text/plain": [
              "(27500, 6)"
            ]
          },
          "metadata": {
            "tags": []
          },
          "execution_count": 13
        }
      ]
    }
  ]
}
